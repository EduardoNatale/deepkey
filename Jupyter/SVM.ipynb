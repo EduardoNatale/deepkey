{
 "cells": [
  {
   "cell_type": "code",
   "execution_count": 15,
   "metadata": {},
   "outputs": [],
   "source": [
    "from sklearn import svm\n",
    "import numpy as np\n",
    "import pandas as pd\n",
    "\n",
    "document = pd.read_csv('../project/tabela3.csv', header=None)\n",
    "\n",
    "lData = []\n",
    "mData = []\n",
    "mmData = []\n",
    "for row in document.iterrows():\n",
    "    index, data = row\n",
    "\n",
    "    if data[0] == 0 and index != 0:\n",
    "        lData.append(mData)\n",
    "        mData = []\n",
    "    mmData = []\n",
    "    for value in data:\n",
    "        mmData.append(value)\n",
    "    mData.append(mmData)\n",
    "\n",
    "    if index == len(document) - 1:\n",
    "        lData.append(mData)\n",
    "\n",
    "du = ['DU1', 'DU2', 'DU3', 'DU4', 'DU5', 'DU6', 'DU7', 'DU8', 'DU9']\n",
    "dd = ['DD1', 'DD2', 'DD3', 'DD4', 'DD5', 'DD6', 'DD7', 'DD8']\n",
    "uu = ['UU1', 'UU2', 'UU3', 'UU4', 'UU5', 'UU6', 'UU7', 'UU8']\n",
    "\n",
    "du_df = pd.DataFrame(columns=du)\n",
    "dd_df = pd.DataFrame(columns=dd)\n",
    "uu_df = pd.DataFrame(columns=uu)\n",
    "\n",
    "for first in lData:\n",
    "    duData = []\n",
    "    uuData = []\n",
    "    ddData = []\n",
    "\n",
    "    chunkUP = []\n",
    "    chunkDOWN = []\n",
    "\n",
    "    if len(first) == 18:\n",
    "        for second in first:\n",
    "            if second[2] == \"UP\":\n",
    "                chunkUP.append(second)\n",
    "            if second[2] == \"DOWN\":\n",
    "                chunkDOWN.append(second)\n",
    "\n",
    "        for i in range(9):\n",
    "            up = chunkUP[i][1]\n",
    "            down = chunkDOWN[i][1]\n",
    "            duData.append(up - down)\n",
    "\n",
    "            if i < 8:\n",
    "                up_1 = chunkUP[i + 1][1]\n",
    "                down_1 = chunkDOWN[i + 1][1]\n",
    "                uuData.append(up_1 - up)\n",
    "                ddData.append(down_1 - down)\n",
    "\n",
    "        du_df.loc[len(du_df)] = duData\n",
    "        dd_df.loc[len(dd_df)] = ddData\n",
    "        uu_df.loc[len(uu_df)] = uuData"
   ]
  },
  {
   "cell_type": "code",
   "execution_count": 16,
   "metadata": {},
   "outputs": [
    {
     "data": {
      "text/plain": [
       "OneClassSVM(cache_size=200, coef0=0.0, degree=3, gamma=0.1, kernel='rbf',\n",
       "      max_iter=-1, nu=0.1, random_state=None, shrinking=True, tol=0.001,\n",
       "      verbose=False)"
      ]
     },
     "execution_count": 16,
     "metadata": {},
     "output_type": "execute_result"
    }
   ],
   "source": [
    "X = du_df\n",
    "clf = svm.OneClassSVM(nu=0.1, kernel=\"rbf\", gamma=0.1)\n",
    "clf.fit(X)"
   ]
  },
  {
   "cell_type": "code",
   "execution_count": 23,
   "metadata": {},
   "outputs": [
    {
     "data": {
      "text/plain": [
       "array([ 1,  1,  1,  1, -1, -1, -1, -1, -1, -1,  1,  1,  1,  1, -1, -1, -1,\n",
       "       -1, -1, -1, -1, -1, -1, -1, -1, -1,  1,  1,  1,  1,  1,  1])"
      ]
     },
     "execution_count": 23,
     "metadata": {},
     "output_type": "execute_result"
    }
   ],
   "source": [
    "y_pred_train = clf.predict(X)\n",
    "y_pred_train"
   ]
  },
  {
   "cell_type": "code",
   "execution_count": 21,
   "metadata": {},
   "outputs": [],
   "source": [
    "y_pred_test = clf.predict([[140, 225, 99, 107, 94, 108, 225, 256, 107]])"
   ]
  },
  {
   "cell_type": "code",
   "execution_count": 22,
   "metadata": {},
   "outputs": [
    {
     "data": {
      "text/plain": [
       "array([-1])"
      ]
     },
     "execution_count": 22,
     "metadata": {},
     "output_type": "execute_result"
    }
   ],
   "source": [
    "y_pred_test"
   ]
  }
 ],
 "metadata": {
  "kernelspec": {
   "display_name": "Python 3",
   "language": "python",
   "name": "python3"
  },
  "language_info": {
   "codemirror_mode": {
    "name": "ipython",
    "version": 3
   },
   "file_extension": ".py",
   "mimetype": "text/x-python",
   "name": "python",
   "nbconvert_exporter": "python",
   "pygments_lexer": "ipython3",
   "version": "3.7.2"
  }
 },
 "nbformat": 4,
 "nbformat_minor": 2
}
